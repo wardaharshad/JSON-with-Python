{
 "cells": [
  {
   "cell_type": "code",
   "execution_count": 2,
   "id": "prostate-business",
   "metadata": {},
   "outputs": [
    {
     "name": "stdout",
     "output_type": "stream",
     "text": [
      "{'name': 'Bob', 'languages': ['English', 'Fench']}\n",
      "Bob\n"
     ]
    }
   ],
   "source": [
    "import json\n",
    "\n",
    "person = '{\"name\": \"Bob\", \"languages\": [\"English\", \"Fench\"]}'\n",
    "person_dict = json.loads(person)\n",
    "\n",
    "print( person_dict)\n",
    "\n",
    "print(person_dict['name'])"
   ]
  },
  {
   "cell_type": "code",
   "execution_count": 3,
   "id": "cardiovascular-argument",
   "metadata": {},
   "outputs": [
    {
     "name": "stdout",
     "output_type": "stream",
     "text": [
      "{'name': 'Bob', 'languages': ['English', 'Fench']}\n"
     ]
    }
   ],
   "source": [
    "with open('person.json') as f:\n",
    "  data = json.load(f)\n",
    "\n",
    "print(data)"
   ]
  },
  {
   "cell_type": "code",
   "execution_count": 5,
   "id": "devoted-vocabulary",
   "metadata": {},
   "outputs": [
    {
     "name": "stdout",
     "output_type": "stream",
     "text": [
      "{\"name\": \"Bob\", \"languages\": [\"English\", \"Fench\"]}\n"
     ]
    }
   ],
   "source": [
    "person_json = json.dumps(data)\n",
    "print(person_json)"
   ]
  },
  {
   "cell_type": "code",
   "execution_count": 6,
   "id": "victorian-privilege",
   "metadata": {},
   "outputs": [],
   "source": [
    "person_dict = {\"name\": \"Bob\",\n",
    "\"languages\": [\"English\", \"Fench\"],\n",
    "\"married\": True,\n",
    "\"age\": 32\n",
    "}\n",
    "\n",
    "with open('nice.txt', 'w') as json_file:\n",
    "  json.dump(person_dict, json_file)"
   ]
  },
  {
   "cell_type": "code",
   "execution_count": 7,
   "id": "racial-composition",
   "metadata": {},
   "outputs": [
    {
     "name": "stdout",
     "output_type": "stream",
     "text": [
      "{\n",
      "    \"languages\": \"English\",\n",
      "    \"name\": \"Bob\",\n",
      "    \"numbers\": [\n",
      "        2,\n",
      "        1.6,\n",
      "        null\n",
      "    ]\n",
      "}\n"
     ]
    }
   ],
   "source": [
    "person_string = '{\"name\": \"Bob\", \"languages\": \"English\", \"numbers\": [2, 1.6, null]}'\n",
    "\n",
    "# Getting dictionary\n",
    "person_dict = json.loads(person_string)\n",
    "\n",
    "# Pretty Printing JSON string back\n",
    "print(json.dumps(person_dict, indent = 4, sort_keys=True))"
   ]
  },
  {
   "cell_type": "code",
   "execution_count": 8,
   "id": "desperate-company",
   "metadata": {},
   "outputs": [
    {
     "name": "stderr",
     "output_type": "stream",
     "text": [
      "'cat' is not recognized as an internal or external command,\n",
      "operable program or batch file.\n"
     ]
    },
    {
     "data": {
      "text/plain": [
       "[{'a': 1, 'b': 2, 'c': 3}, {'a': 4, 'b': 5, 'c': 6}, {'a': 7, 'b': 8, 'c': 9}]"
      ]
     },
     "execution_count": 8,
     "metadata": {},
     "output_type": "execute_result"
    }
   ],
   "source": [
    "!cat examples/example.json\n",
    "[{\"a\": 1, \"b\": 2, \"c\": 3},\n",
    "{\"a\": 4, \"b\": 5, \"c\": 6},\n",
    "{\"a\": 7, \"b\": 8, \"c\": 9}]"
   ]
  },
  {
   "cell_type": "code",
   "execution_count": 12,
   "id": "improved-plane",
   "metadata": {},
   "outputs": [
    {
     "data": {
      "text/html": [
       "<div>\n",
       "<style scoped>\n",
       "    .dataframe tbody tr th:only-of-type {\n",
       "        vertical-align: middle;\n",
       "    }\n",
       "\n",
       "    .dataframe tbody tr th {\n",
       "        vertical-align: top;\n",
       "    }\n",
       "\n",
       "    .dataframe thead th {\n",
       "        text-align: right;\n",
       "    }\n",
       "</style>\n",
       "<table border=\"1\" class=\"dataframe\">\n",
       "  <thead>\n",
       "    <tr style=\"text-align: right;\">\n",
       "      <th></th>\n",
       "      <th>a</th>\n",
       "      <th>b</th>\n",
       "      <th>c</th>\n",
       "    </tr>\n",
       "  </thead>\n",
       "  <tbody>\n",
       "    <tr>\n",
       "      <th>0</th>\n",
       "      <td>1</td>\n",
       "      <td>2</td>\n",
       "      <td>3</td>\n",
       "    </tr>\n",
       "    <tr>\n",
       "      <th>1</th>\n",
       "      <td>4</td>\n",
       "      <td>5</td>\n",
       "      <td>6</td>\n",
       "    </tr>\n",
       "    <tr>\n",
       "      <th>2</th>\n",
       "      <td>7</td>\n",
       "      <td>8</td>\n",
       "      <td>9</td>\n",
       "    </tr>\n",
       "  </tbody>\n",
       "</table>\n",
       "</div>"
      ],
      "text/plain": [
       "   a  b  c\n",
       "0  1  2  3\n",
       "1  4  5  6\n",
       "2  7  8  9"
      ]
     },
     "execution_count": 12,
     "metadata": {},
     "output_type": "execute_result"
    }
   ],
   "source": [
    "import pandas as pd\n",
    "data = pd.read_json('example.json')\n",
    "data"
   ]
  },
  {
   "cell_type": "code",
   "execution_count": 13,
   "id": "adjusted-killing",
   "metadata": {},
   "outputs": [
    {
     "name": "stdout",
     "output_type": "stream",
     "text": [
      "{\"a\":{\"0\":1,\"1\":4,\"2\":7},\"b\":{\"0\":2,\"1\":5,\"2\":8},\"c\":{\"0\":3,\"1\":6,\"2\":9}}\n"
     ]
    }
   ],
   "source": [
    "print(data.to_json())"
   ]
  },
  {
   "cell_type": "code",
   "execution_count": 14,
   "id": "opponent-share",
   "metadata": {},
   "outputs": [
    {
     "name": "stdout",
     "output_type": "stream",
     "text": [
      "[{\"a\":1,\"b\":2,\"c\":3},{\"a\":4,\"b\":5,\"c\":6},{\"a\":7,\"b\":8,\"c\":9}]\n"
     ]
    }
   ],
   "source": [
    "print(data.to_json(orient='records'))"
   ]
  },
  {
   "cell_type": "code",
   "execution_count": null,
   "id": "bound-consultancy",
   "metadata": {},
   "outputs": [],
   "source": []
  }
 ],
 "metadata": {
  "kernelspec": {
   "display_name": "Python 3",
   "language": "python",
   "name": "python3"
  },
  "language_info": {
   "codemirror_mode": {
    "name": "ipython",
    "version": 3
   },
   "file_extension": ".py",
   "mimetype": "text/x-python",
   "name": "python",
   "nbconvert_exporter": "python",
   "pygments_lexer": "ipython3",
   "version": "3.8.7"
  }
 },
 "nbformat": 4,
 "nbformat_minor": 5
}
